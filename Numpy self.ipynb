{
 "cells": [
  {
   "cell_type": "code",
   "execution_count": 1,
   "id": "4d3b47c8",
   "metadata": {},
   "outputs": [],
   "source": [
    "import pandas as pd\n",
    "import numpy as np"
   ]
  },
  {
   "cell_type": "code",
   "execution_count": 2,
   "id": "fd09a908",
   "metadata": {},
   "outputs": [
    {
     "data": {
      "text/plain": [
       "array([1, 2, 3])"
      ]
     },
     "execution_count": 2,
     "metadata": {},
     "output_type": "execute_result"
    }
   ],
   "source": [
    "np.array([1,2,3])"
   ]
  },
  {
   "cell_type": "code",
   "execution_count": 3,
   "id": "dfdcd9cf",
   "metadata": {},
   "outputs": [
    {
     "data": {
      "text/plain": [
       "array([[1, 2, 3],\n",
       "       [4, 5, 6]])"
      ]
     },
     "execution_count": 3,
     "metadata": {},
     "output_type": "execute_result"
    }
   ],
   "source": [
    "np.array([(1,2,3),(4,5,6)])"
   ]
  },
  {
   "cell_type": "code",
   "execution_count": 112,
   "id": "0a0e9d74",
   "metadata": {},
   "outputs": [
    {
     "data": {
      "text/plain": [
       "array([1, 4, 7])"
      ]
     },
     "execution_count": 112,
     "metadata": {},
     "output_type": "execute_result"
    }
   ],
   "source": [
    "np.arange(1,10,3)              #np.arange(start,stop,step)"
   ]
  },
  {
   "cell_type": "code",
   "execution_count": 8,
   "id": "44c750ac",
   "metadata": {},
   "outputs": [
    {
     "data": {
      "text/plain": [
       "array([0.  , 0.25, 0.5 , 0.75, 1.  , 1.25, 1.5 , 1.75, 2.  ])"
      ]
     },
     "execution_count": 8,
     "metadata": {},
     "output_type": "execute_result"
    }
   ],
   "source": [
    "np.linspace(0,2,9)                    #Add evenly spaced values btw interval to array of length"
   ]
  },
  {
   "cell_type": "code",
   "execution_count": 11,
   "id": "aa6c35cc",
   "metadata": {},
   "outputs": [
    {
     "data": {
      "text/plain": [
       "array([[0., 0., 0.],\n",
       "       [0., 0., 0.],\n",
       "       [0., 0., 0.]])"
      ]
     },
     "execution_count": 11,
     "metadata": {},
     "output_type": "execute_result"
    }
   ],
   "source": [
    "np.zeros((3,3))                  #\tCreate and array filled with zeros(row,colm)"
   ]
  },
  {
   "cell_type": "code",
   "execution_count": 12,
   "id": "94c3bdc9",
   "metadata": {},
   "outputs": [
    {
     "data": {
      "text/plain": [
       "array([[1., 1.]])"
      ]
     },
     "execution_count": 12,
     "metadata": {},
     "output_type": "execute_result"
    }
   ],
   "source": [
    "np.ones((1,2))                      #Creates an array filled with ones"
   ]
  },
  {
   "cell_type": "code",
   "execution_count": 14,
   "id": "ea936a6e",
   "metadata": {},
   "outputs": [
    {
     "data": {
      "text/plain": [
       "array([[0.69230066, 0.12408108, 0.55499059],\n",
       "       [0.99891547, 0.73094722, 0.55105072],\n",
       "       [0.81033498, 0.02680483, 0.56679829],\n",
       "       [0.06869249, 0.59361345, 0.2100265 ],\n",
       "       [0.59582342, 0.21077287, 0.06635544]])"
      ]
     },
     "execution_count": 14,
     "metadata": {},
     "output_type": "execute_result"
    }
   ],
   "source": [
    "np.random.random((5,3))                          #\tCreates random array(row,colm)"
   ]
  },
  {
   "cell_type": "code",
   "execution_count": 15,
   "id": "989a85ac",
   "metadata": {},
   "outputs": [
    {
     "data": {
      "text/plain": [
       "array([[2.12199579e-314, 1.04189993e-311],\n",
       "       [1.60077269e-321, 1.04189993e-311]])"
      ]
     },
     "execution_count": 15,
     "metadata": {},
     "output_type": "execute_result"
    }
   ],
   "source": [
    "np.empty((2,2))                        #\tCreates an empty array"
   ]
  },
  {
   "cell_type": "code",
   "execution_count": null,
   "id": "29b06257",
   "metadata": {},
   "outputs": [],
   "source": []
  },
  {
   "cell_type": "code",
   "execution_count": null,
   "id": "4014a12e",
   "metadata": {},
   "outputs": [],
   "source": []
  },
  {
   "cell_type": "code",
   "execution_count": 18,
   "id": "277345f9",
   "metadata": {},
   "outputs": [],
   "source": [
    "array  = np.array([(1,2,3),(4,5,6)])"
   ]
  },
  {
   "cell_type": "code",
   "execution_count": 19,
   "id": "242390a7",
   "metadata": {},
   "outputs": [
    {
     "data": {
      "text/plain": [
       "(2, 3)"
      ]
     },
     "execution_count": 19,
     "metadata": {},
     "output_type": "execute_result"
    }
   ],
   "source": [
    "array.shape    #\tDimensions (Rows,Columns)"
   ]
  },
  {
   "cell_type": "code",
   "execution_count": 20,
   "id": "444598a8",
   "metadata": {},
   "outputs": [
    {
     "data": {
      "text/plain": [
       "2"
      ]
     },
     "execution_count": 20,
     "metadata": {},
     "output_type": "execute_result"
    }
   ],
   "source": [
    "len(array)             #\tLength of Array"
   ]
  },
  {
   "cell_type": "code",
   "execution_count": 21,
   "id": "d325b2e2",
   "metadata": {},
   "outputs": [
    {
     "data": {
      "text/plain": [
       "2"
      ]
     },
     "execution_count": 21,
     "metadata": {},
     "output_type": "execute_result"
    }
   ],
   "source": [
    "array.ndim                    #\tNumber of Array Dimensions (each colm is a dimension)"
   ]
  },
  {
   "cell_type": "code",
   "execution_count": 28,
   "id": "0a619554",
   "metadata": {},
   "outputs": [
    {
     "data": {
      "text/plain": [
       "dtype('int32')"
      ]
     },
     "execution_count": 28,
     "metadata": {},
     "output_type": "execute_result"
    }
   ],
   "source": [
    "array.dtype            #\tData Type"
   ]
  },
  {
   "cell_type": "code",
   "execution_count": 32,
   "id": "53176dc5",
   "metadata": {},
   "outputs": [
    {
     "data": {
      "text/plain": [
       "array([['1', '2', '3'],\n",
       "       ['4', '5', '6']], dtype='<U11')"
      ]
     },
     "execution_count": 32,
     "metadata": {},
     "output_type": "execute_result"
    }
   ],
   "source": [
    "array.astype(str)              #\tConverts to Data Type"
   ]
  },
  {
   "cell_type": "code",
   "execution_count": 33,
   "id": "fc78ab49",
   "metadata": {},
   "outputs": [
    {
     "data": {
      "text/plain": [
       "numpy.ndarray"
      ]
     },
     "execution_count": 33,
     "metadata": {},
     "output_type": "execute_result"
    }
   ],
   "source": [
    "type(array)            #\tType of Array"
   ]
  },
  {
   "cell_type": "code",
   "execution_count": null,
   "id": "362561bf",
   "metadata": {},
   "outputs": [],
   "source": []
  },
  {
   "cell_type": "code",
   "execution_count": null,
   "id": "8750c0ac",
   "metadata": {},
   "outputs": [],
   "source": []
  },
  {
   "cell_type": "code",
   "execution_count": 35,
   "id": "cdfc1b3e",
   "metadata": {},
   "outputs": [],
   "source": []
  },
  {
   "cell_type": "code",
   "execution_count": 48,
   "id": "8b06f3b4",
   "metadata": {},
   "outputs": [
    {
     "data": {
      "text/plain": [
       "array([3, 4])"
      ]
     },
     "execution_count": 48,
     "metadata": {},
     "output_type": "execute_result"
    }
   ],
   "source": [
    "a=3\n",
    "b=4\n",
    "\n",
    "\n",
    "array = np.append(a,b)             #\tAppend items to array\n",
    "array"
   ]
  },
  {
   "cell_type": "code",
   "execution_count": 41,
   "id": "d1859792",
   "metadata": {},
   "outputs": [
    {
     "data": {
      "text/plain": [
       "array([3, 2, 4])"
      ]
     },
     "execution_count": 41,
     "metadata": {},
     "output_type": "execute_result"
    }
   ],
   "source": [
    "np.insert(array, 1, 2, axis = 0)               #\tInsert items into array at axis 0 or 1"
   ]
  },
  {
   "cell_type": "code",
   "execution_count": null,
   "id": "7901320f",
   "metadata": {},
   "outputs": [],
   "source": []
  },
  {
   "cell_type": "code",
   "execution_count": 68,
   "id": "ced60f60",
   "metadata": {},
   "outputs": [
    {
     "data": {
      "text/plain": [
       "array([[1, 2, 3],\n",
       "       [4, 5, 6]])"
      ]
     },
     "execution_count": 68,
     "metadata": {},
     "output_type": "execute_result"
    }
   ],
   "source": [
    "array  = np.array([(1,2,3),(4,5,6)])\n",
    "array"
   ]
  },
  {
   "cell_type": "code",
   "execution_count": 55,
   "id": "4b720fbe",
   "metadata": {},
   "outputs": [
    {
     "data": {
      "text/plain": [
       "array([[1, 2, 3, 3],\n",
       "       [4, 5, 3, 6]])"
      ]
     },
     "execution_count": 55,
     "metadata": {},
     "output_type": "execute_result"
    }
   ],
   "source": [
    "np.insert(array, 2, 3, axis = 1)        # (array, position(index) ,element which we want to insert , axis(row / colm))\n",
    "                                           # index start from 0"
   ]
  },
  {
   "cell_type": "code",
   "execution_count": 57,
   "id": "87587133",
   "metadata": {},
   "outputs": [
    {
     "data": {
      "text/plain": [
       "array([[1, 2, 3, 4],\n",
       "       [5, 6, 1, 2]])"
      ]
     },
     "execution_count": 57,
     "metadata": {},
     "output_type": "execute_result"
    }
   ],
   "source": [
    "np.resize(array,(2,4))                 #\tResize array to shape(2,4)"
   ]
  },
  {
   "cell_type": "code",
   "execution_count": 60,
   "id": "3e9820d6",
   "metadata": {},
   "outputs": [
    {
     "data": {
      "text/plain": [
       "array([[1, 2, 3]])"
      ]
     },
     "execution_count": 60,
     "metadata": {},
     "output_type": "execute_result"
    }
   ],
   "source": [
    "np.delete(array,1, axis = 0)   #\tDeletes items from array(array_name , index_position)"
   ]
  },
  {
   "cell_type": "code",
   "execution_count": null,
   "id": "58314e09",
   "metadata": {},
   "outputs": [],
   "source": []
  },
  {
   "cell_type": "code",
   "execution_count": 61,
   "id": "28016c4d",
   "metadata": {},
   "outputs": [
    {
     "data": {
      "text/plain": [
       "array([[1, 2, 3],\n",
       "       [4, 5, 6]])"
      ]
     },
     "execution_count": 61,
     "metadata": {},
     "output_type": "execute_result"
    }
   ],
   "source": [
    "np.copy(array)       #\tCreates copy of array"
   ]
  },
  {
   "cell_type": "code",
   "execution_count": 63,
   "id": "e1e788cc",
   "metadata": {},
   "outputs": [
    {
     "data": {
      "text/plain": [
       "array([[1, 2, 3],\n",
       "       [4, 5, 6]])"
      ]
     },
     "execution_count": 63,
     "metadata": {},
     "output_type": "execute_result"
    }
   ],
   "source": [
    "other = array.copy()          #\tCreates deep copy of array\n",
    "other"
   ]
  },
  {
   "cell_type": "code",
   "execution_count": null,
   "id": "68701c10",
   "metadata": {},
   "outputs": [],
   "source": []
  },
  {
   "cell_type": "code",
   "execution_count": null,
   "id": "41d86e16",
   "metadata": {},
   "outputs": [],
   "source": []
  },
  {
   "cell_type": "code",
   "execution_count": 86,
   "id": "f1c14174",
   "metadata": {},
   "outputs": [
    {
     "data": {
      "text/plain": [
       "array([[1, 6, 3],\n",
       "       [4, 3, 6]])"
      ]
     },
     "execution_count": 86,
     "metadata": {},
     "output_type": "execute_result"
    }
   ],
   "source": [
    "array  = np.array([(1,6,3),(4,3,6)])\n",
    "array"
   ]
  },
  {
   "cell_type": "code",
   "execution_count": 81,
   "id": "21eb9f24",
   "metadata": {},
   "outputs": [
    {
     "data": {
      "text/plain": [
       "array([[1, 3, 6],\n",
       "       [3, 4, 6]])"
      ]
     },
     "execution_count": 81,
     "metadata": {},
     "output_type": "execute_result"
    }
   ],
   "source": [
    "array.sort()                   #\tSorts an array\n",
    "array"
   ]
  },
  {
   "cell_type": "code",
   "execution_count": 78,
   "id": "38456c93",
   "metadata": {},
   "outputs": [
    {
     "data": {
      "text/plain": [
       "array([[1, 3, 3],\n",
       "       [4, 6, 6]])"
      ]
     },
     "execution_count": 78,
     "metadata": {},
     "output_type": "execute_result"
    }
   ],
   "source": [
    "array.sort(axis=1)            #\tSorts axis of array\n",
    "array"
   ]
  },
  {
   "cell_type": "code",
   "execution_count": null,
   "id": "244b6149",
   "metadata": {},
   "outputs": [],
   "source": []
  },
  {
   "cell_type": "code",
   "execution_count": 125,
   "id": "f3382233",
   "metadata": {},
   "outputs": [],
   "source": [
    "array  = np.array([(1,6,3),(4,3,6)])\n",
    "array2  = np.array([(11,16,13),(14,17,26)])"
   ]
  },
  {
   "cell_type": "code",
   "execution_count": 94,
   "id": "5bd1f5f0",
   "metadata": {},
   "outputs": [
    {
     "data": {
      "text/plain": [
       "array([[ 1,  6,  3],\n",
       "       [ 4,  3,  6],\n",
       "       [11, 16, 13],\n",
       "       [14, 17, 26]])"
      ]
     },
     "execution_count": 94,
     "metadata": {},
     "output_type": "execute_result"
    }
   ],
   "source": [
    "np.concatenate((array,array2),axis = 0)       #\tConcatenates 2 arrays, adds to end"
   ]
  },
  {
   "cell_type": "code",
   "execution_count": 95,
   "id": "646d6677",
   "metadata": {},
   "outputs": [
    {
     "data": {
      "text/plain": [
       "array([[ 1,  6,  3],\n",
       "       [ 4,  3,  6],\n",
       "       [11, 16, 13],\n",
       "       [14, 17, 26]])"
      ]
     },
     "execution_count": 95,
     "metadata": {},
     "output_type": "execute_result"
    }
   ],
   "source": [
    "np.vstack((array,array2))               #\tStack array row-wise"
   ]
  },
  {
   "cell_type": "code",
   "execution_count": 105,
   "id": "2a78451f",
   "metadata": {},
   "outputs": [
    {
     "data": {
      "text/plain": [
       "array([[ 1,  6,  3, 11, 16, 13],\n",
       "       [ 4,  3,  6, 14, 17, 26]])"
      ]
     },
     "execution_count": 105,
     "metadata": {},
     "output_type": "execute_result"
    }
   ],
   "source": [
    "np.hstack((array,array2))           #\tStack array column wise\n"
   ]
  },
  {
   "cell_type": "code",
   "execution_count": null,
   "id": "ef4b2477",
   "metadata": {},
   "outputs": [],
   "source": []
  },
  {
   "cell_type": "code",
   "execution_count": 108,
   "id": "4b79bcee",
   "metadata": {},
   "outputs": [
    {
     "data": {
      "text/plain": [
       "array([0., 1., 2., 3., 4., 5., 6., 7.])"
      ]
     },
     "execution_count": 108,
     "metadata": {},
     "output_type": "execute_result"
    }
   ],
   "source": [
    "x = np.arange(8.0)           # create an arrayend upto 8.0\n",
    "x"
   ]
  },
  {
   "cell_type": "code",
   "execution_count": 113,
   "id": "fb8f24e4",
   "metadata": {},
   "outputs": [
    {
     "data": {
      "text/plain": [
       "[array([0., 1., 2.]),\n",
       " array([3., 4.]),\n",
       " array([5.]),\n",
       " array([6., 7.]),\n",
       " array([], dtype=float64)]"
      ]
     },
     "execution_count": 113,
     "metadata": {},
     "output_type": "execute_result"
    }
   ],
   "source": [
    "x = np.arange(8.0)\n",
    "np.split(x, [3, 5, 6, 10])                  #\tSplit an array into multiple sub-arrays."
   ]
  },
  {
   "cell_type": "code",
   "execution_count": 114,
   "id": "64d4dc2f",
   "metadata": {},
   "outputs": [
    {
     "data": {
      "text/plain": [
       "[array([0., 1., 2.]), array([3., 4., 5.]), array([6., 7.])]"
      ]
     },
     "execution_count": 114,
     "metadata": {},
     "output_type": "execute_result"
    }
   ],
   "source": [
    "np.array_split(x, 3)                 #\tSplit an array in sub-arrays of (nearly) identical size"
   ]
  },
  {
   "cell_type": "code",
   "execution_count": 128,
   "id": "52859593",
   "metadata": {},
   "outputs": [
    {
     "data": {
      "text/plain": [
       "[array([[1],\n",
       "        [4]]),\n",
       " array([[6],\n",
       "        [3]]),\n",
       " array([[3],\n",
       "        [6]])]"
      ]
     },
     "execution_count": 128,
     "metadata": {},
     "output_type": "execute_result"
    }
   ],
   "source": [
    "np.hsplit(array, 3)            #\tSplit the array horizontally at 3rd index"
   ]
  },
  {
   "cell_type": "code",
   "execution_count": 4,
   "id": "f7e0ca93",
   "metadata": {},
   "outputs": [],
   "source": [
    "import numpy as np"
   ]
  },
  {
   "cell_type": "raw",
   "id": "ce01ff06",
   "metadata": {},
   "source": [
    "1. Write a NumPy program to print the NumPy version on your system."
   ]
  },
  {
   "cell_type": "code",
   "execution_count": 6,
   "id": "16d254b5",
   "metadata": {},
   "outputs": [
    {
     "data": {
      "text/plain": [
       "'1.24.3'"
      ]
     },
     "execution_count": 6,
     "metadata": {},
     "output_type": "execute_result"
    }
   ],
   "source": [
    "np.__version__"
   ]
  },
  {
   "cell_type": "raw",
   "id": "32d91589",
   "metadata": {},
   "source": [
    "2. Write a NumPy program to convert a list of numeric values into a one-dimensional NumPy array"
   ]
  },
  {
   "cell_type": "code",
   "execution_count": 7,
   "id": "932d9c04",
   "metadata": {},
   "outputs": [
    {
     "data": {
      "text/plain": [
       "array([ 12.23,  13.32, 100.  ,  36.32])"
      ]
     },
     "execution_count": 7,
     "metadata": {},
     "output_type": "execute_result"
    }
   ],
   "source": [
    "l1 =  [12.23, 13.32, 100, 36.32]\n",
    "np.array(l1)"
   ]
  },
  {
   "cell_type": "raw",
   "id": "97242d1e",
   "metadata": {},
   "source": [
    "3.Write a NumPy program to create a 3x3 matrix with values ranging from 2 to 10."
   ]
  },
  {
   "cell_type": "code",
   "execution_count": 10,
   "id": "2a53ef8e",
   "metadata": {},
   "outputs": [
    {
     "data": {
      "text/plain": [
       "array([5, 8, 2])"
      ]
     },
     "execution_count": 10,
     "metadata": {},
     "output_type": "execute_result"
    }
   ],
   "source": [
    "arr= np.random.randint(1,11,3)\n",
    "arr"
   ]
  },
  {
   "cell_type": "code",
   "execution_count": null,
   "id": "01930399",
   "metadata": {},
   "outputs": [],
   "source": []
  }
 ],
 "metadata": {
  "kernelspec": {
   "display_name": "Python 3 (ipykernel)",
   "language": "python",
   "name": "python3"
  },
  "language_info": {
   "codemirror_mode": {
    "name": "ipython",
    "version": 3
   },
   "file_extension": ".py",
   "mimetype": "text/x-python",
   "name": "python",
   "nbconvert_exporter": "python",
   "pygments_lexer": "ipython3",
   "version": "3.11.5"
  }
 },
 "nbformat": 4,
 "nbformat_minor": 5
}
